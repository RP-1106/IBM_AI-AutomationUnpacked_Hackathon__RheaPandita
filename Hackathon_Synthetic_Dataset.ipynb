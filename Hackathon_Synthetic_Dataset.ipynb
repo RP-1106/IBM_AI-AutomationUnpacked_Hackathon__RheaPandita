{
 "cells": [
  {
   "cell_type": "code",
   "execution_count": 1,
   "id": "9ff84256",
   "metadata": {},
   "outputs": [],
   "source": [
    "import pandas as pd\n",
    "import numpy as np"
   ]
  },
  {
   "cell_type": "code",
   "execution_count": 2,
   "id": "6ebba18e",
   "metadata": {},
   "outputs": [],
   "source": [
    "df = pd.read_csv(\"amazon_sales_data_kaggle.csv\")"
   ]
  },
  {
   "cell_type": "code",
   "execution_count": 3,
   "id": "b259cf1c",
   "metadata": {},
   "outputs": [
    {
     "data": {
      "text/html": [
       "<div>\n",
       "<style scoped>\n",
       "    .dataframe tbody tr th:only-of-type {\n",
       "        vertical-align: middle;\n",
       "    }\n",
       "\n",
       "    .dataframe tbody tr th {\n",
       "        vertical-align: top;\n",
       "    }\n",
       "\n",
       "    .dataframe thead th {\n",
       "        text-align: right;\n",
       "    }\n",
       "</style>\n",
       "<table border=\"1\" class=\"dataframe\">\n",
       "  <thead>\n",
       "    <tr style=\"text-align: right;\">\n",
       "      <th></th>\n",
       "      <th>OrderID</th>\n",
       "      <th>Date</th>\n",
       "      <th>Product</th>\n",
       "      <th>Category</th>\n",
       "      <th>Price</th>\n",
       "      <th>Quantity</th>\n",
       "      <th>TotalSales</th>\n",
       "      <th>CustomerName</th>\n",
       "      <th>CustomerLocation</th>\n",
       "      <th>PaymentMethod</th>\n",
       "      <th>Status</th>\n",
       "    </tr>\n",
       "  </thead>\n",
       "  <tbody>\n",
       "    <tr>\n",
       "      <th>0</th>\n",
       "      <td>ORD0001</td>\n",
       "      <td>02-02-2025</td>\n",
       "      <td>Running Shoes</td>\n",
       "      <td>Footwear</td>\n",
       "      <td>60</td>\n",
       "      <td>3</td>\n",
       "      <td>180</td>\n",
       "      <td>Emma Clark</td>\n",
       "      <td>New York</td>\n",
       "      <td>Debit Card</td>\n",
       "      <td>Cancelled</td>\n",
       "    </tr>\n",
       "    <tr>\n",
       "      <th>1</th>\n",
       "      <td>ORD0002</td>\n",
       "      <td>03-02-2025</td>\n",
       "      <td>Headphones</td>\n",
       "      <td>Electronics</td>\n",
       "      <td>100</td>\n",
       "      <td>4</td>\n",
       "      <td>400</td>\n",
       "      <td>Emily Johnson</td>\n",
       "      <td>San Francisco</td>\n",
       "      <td>Debit Card</td>\n",
       "      <td>Pending</td>\n",
       "    </tr>\n",
       "    <tr>\n",
       "      <th>2</th>\n",
       "      <td>ORD0003</td>\n",
       "      <td>03-02-2025</td>\n",
       "      <td>Running Shoes</td>\n",
       "      <td>Footwear</td>\n",
       "      <td>60</td>\n",
       "      <td>2</td>\n",
       "      <td>120</td>\n",
       "      <td>John Doe</td>\n",
       "      <td>Denver</td>\n",
       "      <td>Amazon Pay</td>\n",
       "      <td>Cancelled</td>\n",
       "    </tr>\n",
       "    <tr>\n",
       "      <th>3</th>\n",
       "      <td>ORD0004</td>\n",
       "      <td>03-02-2025</td>\n",
       "      <td>Running Shoes</td>\n",
       "      <td>Footwear</td>\n",
       "      <td>60</td>\n",
       "      <td>3</td>\n",
       "      <td>180</td>\n",
       "      <td>Olivia Wilson</td>\n",
       "      <td>Dallas</td>\n",
       "      <td>Credit Card</td>\n",
       "      <td>Pending</td>\n",
       "    </tr>\n",
       "    <tr>\n",
       "      <th>4</th>\n",
       "      <td>ORD0005</td>\n",
       "      <td>04-02-2025</td>\n",
       "      <td>Smartwatch</td>\n",
       "      <td>Electronics</td>\n",
       "      <td>150</td>\n",
       "      <td>3</td>\n",
       "      <td>450</td>\n",
       "      <td>Emma Clark</td>\n",
       "      <td>New York</td>\n",
       "      <td>Debit Card</td>\n",
       "      <td>Pending</td>\n",
       "    </tr>\n",
       "  </tbody>\n",
       "</table>\n",
       "</div>"
      ],
      "text/plain": [
       "   OrderID        Date        Product     Category  Price  Quantity  \\\n",
       "0  ORD0001  02-02-2025  Running Shoes     Footwear     60         3   \n",
       "1  ORD0002  03-02-2025     Headphones  Electronics    100         4   \n",
       "2  ORD0003  03-02-2025  Running Shoes     Footwear     60         2   \n",
       "3  ORD0004  03-02-2025  Running Shoes     Footwear     60         3   \n",
       "4  ORD0005  04-02-2025     Smartwatch  Electronics    150         3   \n",
       "\n",
       "   TotalSales   CustomerName CustomerLocation PaymentMethod     Status  \n",
       "0         180     Emma Clark         New York    Debit Card  Cancelled  \n",
       "1         400  Emily Johnson    San Francisco    Debit Card    Pending  \n",
       "2         120       John Doe           Denver    Amazon Pay  Cancelled  \n",
       "3         180  Olivia Wilson           Dallas   Credit Card    Pending  \n",
       "4         450     Emma Clark         New York    Debit Card    Pending  "
      ]
     },
     "execution_count": 3,
     "metadata": {},
     "output_type": "execute_result"
    }
   ],
   "source": [
    "df.head()"
   ]
  },
  {
   "cell_type": "code",
   "execution_count": 4,
   "id": "1b796ce7",
   "metadata": {},
   "outputs": [
    {
     "data": {
      "text/html": [
       "<div>\n",
       "<style scoped>\n",
       "    .dataframe tbody tr th:only-of-type {\n",
       "        vertical-align: middle;\n",
       "    }\n",
       "\n",
       "    .dataframe tbody tr th {\n",
       "        vertical-align: top;\n",
       "    }\n",
       "\n",
       "    .dataframe thead th {\n",
       "        text-align: right;\n",
       "    }\n",
       "</style>\n",
       "<table border=\"1\" class=\"dataframe\">\n",
       "  <thead>\n",
       "    <tr style=\"text-align: right;\">\n",
       "      <th></th>\n",
       "      <th>Price</th>\n",
       "      <th>Quantity</th>\n",
       "      <th>TotalSales</th>\n",
       "    </tr>\n",
       "  </thead>\n",
       "  <tbody>\n",
       "    <tr>\n",
       "      <th>count</th>\n",
       "      <td>250.000000</td>\n",
       "      <td>250.000000</td>\n",
       "      <td>250.000000</td>\n",
       "    </tr>\n",
       "    <tr>\n",
       "      <th>mean</th>\n",
       "      <td>343.580000</td>\n",
       "      <td>2.856000</td>\n",
       "      <td>975.380000</td>\n",
       "    </tr>\n",
       "    <tr>\n",
       "      <th>std</th>\n",
       "      <td>380.635808</td>\n",
       "      <td>1.429489</td>\n",
       "      <td>1252.112254</td>\n",
       "    </tr>\n",
       "    <tr>\n",
       "      <th>min</th>\n",
       "      <td>15.000000</td>\n",
       "      <td>1.000000</td>\n",
       "      <td>15.000000</td>\n",
       "    </tr>\n",
       "    <tr>\n",
       "      <th>25%</th>\n",
       "      <td>40.000000</td>\n",
       "      <td>2.000000</td>\n",
       "      <td>100.000000</td>\n",
       "    </tr>\n",
       "    <tr>\n",
       "      <th>50%</th>\n",
       "      <td>150.000000</td>\n",
       "      <td>3.000000</td>\n",
       "      <td>400.000000</td>\n",
       "    </tr>\n",
       "    <tr>\n",
       "      <th>75%</th>\n",
       "      <td>600.000000</td>\n",
       "      <td>4.000000</td>\n",
       "      <td>1500.000000</td>\n",
       "    </tr>\n",
       "    <tr>\n",
       "      <th>max</th>\n",
       "      <td>1200.000000</td>\n",
       "      <td>5.000000</td>\n",
       "      <td>6000.000000</td>\n",
       "    </tr>\n",
       "  </tbody>\n",
       "</table>\n",
       "</div>"
      ],
      "text/plain": [
       "             Price    Quantity   TotalSales\n",
       "count   250.000000  250.000000   250.000000\n",
       "mean    343.580000    2.856000   975.380000\n",
       "std     380.635808    1.429489  1252.112254\n",
       "min      15.000000    1.000000    15.000000\n",
       "25%      40.000000    2.000000   100.000000\n",
       "50%     150.000000    3.000000   400.000000\n",
       "75%     600.000000    4.000000  1500.000000\n",
       "max    1200.000000    5.000000  6000.000000"
      ]
     },
     "execution_count": 4,
     "metadata": {},
     "output_type": "execute_result"
    }
   ],
   "source": [
    "df.describe()"
   ]
  },
  {
   "cell_type": "code",
   "execution_count": 5,
   "id": "409a19d6",
   "metadata": {},
   "outputs": [
    {
     "name": "stdout",
     "output_type": "stream",
     "text": [
      "<class 'pandas.core.frame.DataFrame'>\n",
      "RangeIndex: 250 entries, 0 to 249\n",
      "Data columns (total 11 columns):\n",
      " #   Column            Non-Null Count  Dtype \n",
      "---  ------            --------------  ----- \n",
      " 0   OrderID           250 non-null    object\n",
      " 1   Date              250 non-null    object\n",
      " 2   Product           250 non-null    object\n",
      " 3   Category          250 non-null    object\n",
      " 4   Price             250 non-null    int64 \n",
      " 5   Quantity          250 non-null    int64 \n",
      " 6   TotalSales        250 non-null    int64 \n",
      " 7   CustomerName      250 non-null    object\n",
      " 8   CustomerLocation  250 non-null    object\n",
      " 9   PaymentMethod     250 non-null    object\n",
      " 10  Status            250 non-null    object\n",
      "dtypes: int64(3), object(8)\n",
      "memory usage: 21.6+ KB\n"
     ]
    }
   ],
   "source": [
    "df.info()"
   ]
  },
  {
   "cell_type": "code",
   "execution_count": 6,
   "id": "5d65be4c",
   "metadata": {},
   "outputs": [],
   "source": [
    "target_rows = 3000\n",
    "rows_to_add = target_rows - len(df)"
   ]
  },
  {
   "cell_type": "code",
   "execution_count": 7,
   "id": "3c77f565",
   "metadata": {},
   "outputs": [
    {
     "name": "stdout",
     "output_type": "stream",
     "text": [
      "OrderID\n",
      "Date\n",
      "Product\n",
      "Category\n",
      "Price\n",
      "Quantity\n",
      "TotalSales\n",
      "CustomerName\n",
      "CustomerLocation\n",
      "PaymentMethod\n",
      "Status\n"
     ]
    }
   ],
   "source": [
    "for i in df.columns:\n",
    "    print(i)"
   ]
  },
  {
   "cell_type": "code",
   "execution_count": 8,
   "id": "82269f25",
   "metadata": {},
   "outputs": [
    {
     "name": "stdout",
     "output_type": "stream",
     "text": [
      "Running Shoes\n",
      "Headphones\n",
      "Smartwatch\n",
      "T-Shirt\n",
      "Smartphone\n",
      "Book\n",
      "Jeans\n",
      "Laptop\n",
      "Washing Machine\n",
      "Refrigerator\n"
     ]
    }
   ],
   "source": [
    "unique=[]\n",
    "for i in df['Product']:\n",
    "    if i not in unique:\n",
    "        unique.append(i)\n",
    "for i in unique:\n",
    "    print(i)"
   ]
  },
  {
   "cell_type": "code",
   "execution_count": 9,
   "id": "2a3c661f",
   "metadata": {},
   "outputs": [
    {
     "name": "stdout",
     "output_type": "stream",
     "text": [
      "Footwear\n",
      "Electronics\n",
      "Clothing\n",
      "Books\n",
      "Home Appliances\n"
     ]
    }
   ],
   "source": [
    "unique=[]\n",
    "for i in df['Category']:\n",
    "    if i not in unique:\n",
    "        unique.append(i)\n",
    "for i in unique:\n",
    "    print(i)"
   ]
  },
  {
   "cell_type": "code",
   "execution_count": 10,
   "id": "cb2d9778",
   "metadata": {},
   "outputs": [
    {
     "name": "stdout",
     "output_type": "stream",
     "text": [
      "Emma Clark\n",
      "Emily Johnson\n",
      "John Doe\n",
      "Olivia Wilson\n",
      "Sophia Miller\n",
      "David Lee\n",
      "Michael Brown\n",
      "Daniel Harris\n",
      "Chris White\n",
      "Jane Smith\n"
     ]
    }
   ],
   "source": [
    "unique=[]\n",
    "for i in df['CustomerName']:\n",
    "    if i not in unique:\n",
    "        unique.append(i)\n",
    "for i in unique:\n",
    "    print(i)"
   ]
  },
  {
   "cell_type": "code",
   "execution_count": 11,
   "id": "c1bcf9de",
   "metadata": {},
   "outputs": [
    {
     "name": "stdout",
     "output_type": "stream",
     "text": [
      "New York\n",
      "San Francisco\n",
      "Denver\n",
      "Dallas\n",
      "Houston\n",
      "Miami\n",
      "Boston\n",
      "Seattle\n",
      "Los Angeles\n",
      "Chicago\n"
     ]
    }
   ],
   "source": [
    "unique=[]\n",
    "for i in df['CustomerLocation']:\n",
    "    if i not in unique:\n",
    "        unique.append(i)\n",
    "for i in unique:\n",
    "    print(i)"
   ]
  },
  {
   "cell_type": "code",
   "execution_count": 12,
   "id": "6105c189",
   "metadata": {},
   "outputs": [
    {
     "name": "stdout",
     "output_type": "stream",
     "text": [
      "Debit Card\n",
      "Amazon Pay\n",
      "Credit Card\n",
      "PayPal\n",
      "Gift Card\n"
     ]
    }
   ],
   "source": [
    "unique=[]\n",
    "for i in df['PaymentMethod']:\n",
    "    if i not in unique:\n",
    "        unique.append(i)\n",
    "for i in unique:\n",
    "    print(i)"
   ]
  },
  {
   "cell_type": "code",
   "execution_count": 13,
   "id": "76f82a91",
   "metadata": {},
   "outputs": [
    {
     "name": "stdout",
     "output_type": "stream",
     "text": [
      "Cancelled\n",
      "Pending\n",
      "Completed\n"
     ]
    }
   ],
   "source": [
    "unique=[]\n",
    "for i in df['Status']:\n",
    "    if i not in unique:\n",
    "        unique.append(i)\n",
    "for i in unique:\n",
    "    print(i)"
   ]
  },
  {
   "cell_type": "code",
   "execution_count": 14,
   "id": "a706ed61",
   "metadata": {},
   "outputs": [],
   "source": [
    "# Number of new rows to add (e.g., 100)\n",
    "n_new_rows = 2750"
   ]
  },
  {
   "cell_type": "code",
   "execution_count": 15,
   "id": "3843ad0d",
   "metadata": {},
   "outputs": [],
   "source": [
    "# Generate new rows via bootstrapping\n",
    "new_rows = df.sample(n=n_new_rows, replace=True, random_state=42)"
   ]
  },
  {
   "cell_type": "code",
   "execution_count": 16,
   "id": "0b051703",
   "metadata": {},
   "outputs": [],
   "source": [
    "# Append to original dataset\n",
    "extended_df = pd.concat([df, new_rows], ignore_index=True)"
   ]
  },
  {
   "cell_type": "code",
   "execution_count": 17,
   "id": "285e4348",
   "metadata": {},
   "outputs": [
    {
     "data": {
      "text/html": [
       "<div>\n",
       "<style scoped>\n",
       "    .dataframe tbody tr th:only-of-type {\n",
       "        vertical-align: middle;\n",
       "    }\n",
       "\n",
       "    .dataframe tbody tr th {\n",
       "        vertical-align: top;\n",
       "    }\n",
       "\n",
       "    .dataframe thead th {\n",
       "        text-align: right;\n",
       "    }\n",
       "</style>\n",
       "<table border=\"1\" class=\"dataframe\">\n",
       "  <thead>\n",
       "    <tr style=\"text-align: right;\">\n",
       "      <th></th>\n",
       "      <th>Price</th>\n",
       "      <th>Quantity</th>\n",
       "      <th>TotalSales</th>\n",
       "    </tr>\n",
       "  </thead>\n",
       "  <tbody>\n",
       "    <tr>\n",
       "      <th>count</th>\n",
       "      <td>250.000000</td>\n",
       "      <td>250.000000</td>\n",
       "      <td>250.000000</td>\n",
       "    </tr>\n",
       "    <tr>\n",
       "      <th>mean</th>\n",
       "      <td>343.580000</td>\n",
       "      <td>2.856000</td>\n",
       "      <td>975.380000</td>\n",
       "    </tr>\n",
       "    <tr>\n",
       "      <th>std</th>\n",
       "      <td>380.635808</td>\n",
       "      <td>1.429489</td>\n",
       "      <td>1252.112254</td>\n",
       "    </tr>\n",
       "    <tr>\n",
       "      <th>min</th>\n",
       "      <td>15.000000</td>\n",
       "      <td>1.000000</td>\n",
       "      <td>15.000000</td>\n",
       "    </tr>\n",
       "    <tr>\n",
       "      <th>25%</th>\n",
       "      <td>40.000000</td>\n",
       "      <td>2.000000</td>\n",
       "      <td>100.000000</td>\n",
       "    </tr>\n",
       "    <tr>\n",
       "      <th>50%</th>\n",
       "      <td>150.000000</td>\n",
       "      <td>3.000000</td>\n",
       "      <td>400.000000</td>\n",
       "    </tr>\n",
       "    <tr>\n",
       "      <th>75%</th>\n",
       "      <td>600.000000</td>\n",
       "      <td>4.000000</td>\n",
       "      <td>1500.000000</td>\n",
       "    </tr>\n",
       "    <tr>\n",
       "      <th>max</th>\n",
       "      <td>1200.000000</td>\n",
       "      <td>5.000000</td>\n",
       "      <td>6000.000000</td>\n",
       "    </tr>\n",
       "  </tbody>\n",
       "</table>\n",
       "</div>"
      ],
      "text/plain": [
       "             Price    Quantity   TotalSales\n",
       "count   250.000000  250.000000   250.000000\n",
       "mean    343.580000    2.856000   975.380000\n",
       "std     380.635808    1.429489  1252.112254\n",
       "min      15.000000    1.000000    15.000000\n",
       "25%      40.000000    2.000000   100.000000\n",
       "50%     150.000000    3.000000   400.000000\n",
       "75%     600.000000    4.000000  1500.000000\n",
       "max    1200.000000    5.000000  6000.000000"
      ]
     },
     "execution_count": 17,
     "metadata": {},
     "output_type": "execute_result"
    }
   ],
   "source": [
    "df.describe()"
   ]
  },
  {
   "cell_type": "code",
   "execution_count": 18,
   "id": "ea5f515c",
   "metadata": {},
   "outputs": [
    {
     "data": {
      "text/html": [
       "<div>\n",
       "<style scoped>\n",
       "    .dataframe tbody tr th:only-of-type {\n",
       "        vertical-align: middle;\n",
       "    }\n",
       "\n",
       "    .dataframe tbody tr th {\n",
       "        vertical-align: top;\n",
       "    }\n",
       "\n",
       "    .dataframe thead th {\n",
       "        text-align: right;\n",
       "    }\n",
       "</style>\n",
       "<table border=\"1\" class=\"dataframe\">\n",
       "  <thead>\n",
       "    <tr style=\"text-align: right;\">\n",
       "      <th></th>\n",
       "      <th>Price</th>\n",
       "      <th>Quantity</th>\n",
       "      <th>TotalSales</th>\n",
       "    </tr>\n",
       "  </thead>\n",
       "  <tbody>\n",
       "    <tr>\n",
       "      <th>count</th>\n",
       "      <td>3000.000000</td>\n",
       "      <td>3000.000000</td>\n",
       "      <td>3000.000000</td>\n",
       "    </tr>\n",
       "    <tr>\n",
       "      <th>mean</th>\n",
       "      <td>333.990000</td>\n",
       "      <td>2.876667</td>\n",
       "      <td>975.110000</td>\n",
       "    </tr>\n",
       "    <tr>\n",
       "      <th>std</th>\n",
       "      <td>370.708225</td>\n",
       "      <td>1.438800</td>\n",
       "      <td>1260.864491</td>\n",
       "    </tr>\n",
       "    <tr>\n",
       "      <th>min</th>\n",
       "      <td>15.000000</td>\n",
       "      <td>1.000000</td>\n",
       "      <td>15.000000</td>\n",
       "    </tr>\n",
       "    <tr>\n",
       "      <th>25%</th>\n",
       "      <td>40.000000</td>\n",
       "      <td>2.000000</td>\n",
       "      <td>100.000000</td>\n",
       "    </tr>\n",
       "    <tr>\n",
       "      <th>50%</th>\n",
       "      <td>150.000000</td>\n",
       "      <td>3.000000</td>\n",
       "      <td>400.000000</td>\n",
       "    </tr>\n",
       "    <tr>\n",
       "      <th>75%</th>\n",
       "      <td>600.000000</td>\n",
       "      <td>4.000000</td>\n",
       "      <td>1500.000000</td>\n",
       "    </tr>\n",
       "    <tr>\n",
       "      <th>max</th>\n",
       "      <td>1200.000000</td>\n",
       "      <td>5.000000</td>\n",
       "      <td>6000.000000</td>\n",
       "    </tr>\n",
       "  </tbody>\n",
       "</table>\n",
       "</div>"
      ],
      "text/plain": [
       "             Price     Quantity   TotalSales\n",
       "count  3000.000000  3000.000000  3000.000000\n",
       "mean    333.990000     2.876667   975.110000\n",
       "std     370.708225     1.438800  1260.864491\n",
       "min      15.000000     1.000000    15.000000\n",
       "25%      40.000000     2.000000   100.000000\n",
       "50%     150.000000     3.000000   400.000000\n",
       "75%     600.000000     4.000000  1500.000000\n",
       "max    1200.000000     5.000000  6000.000000"
      ]
     },
     "execution_count": 18,
     "metadata": {},
     "output_type": "execute_result"
    }
   ],
   "source": [
    "extended_df.describe()"
   ]
  },
  {
   "cell_type": "code",
   "execution_count": 19,
   "id": "14991d70",
   "metadata": {},
   "outputs": [],
   "source": [
    "#extended_df.to_csv('amazon_sales_data_kaggle2.csv')"
   ]
  },
  {
   "cell_type": "code",
   "execution_count": null,
   "id": "0a7be4ff",
   "metadata": {},
   "outputs": [],
   "source": []
  },
  {
   "cell_type": "code",
   "execution_count": 20,
   "id": "d30d011f",
   "metadata": {},
   "outputs": [],
   "source": [
    "from datetime import date\n",
    "\n",
    "def assign_random_dates(num_rows=3000, start_year=2018, end_date_str='2025-06-27'):\n",
    "    end_date = pd.to_datetime(end_date_str)\n",
    "    \n",
    "    # Create the start date\n",
    "    start_date = pd.to_datetime(f'{start_year}-01-01')\n",
    "\n",
    "    # 1. Generate the complete date range\n",
    "    all_dates = pd.date_range(start=start_date, end=end_date)\n",
    "    \n",
    "    # Convert to Python date objects if preferred for the final output, or keep as Timestamps\n",
    "    all_dates_list = all_dates.tolist() # Keep as Timestamps for now for easy manipulation\n",
    "\n",
    "    # 2. Determine random occurrences for each date\n",
    "    # We need to distribute num_rows (3000) randomly across all_dates_list.\n",
    "    # A simple way is to draw 'num_rows' dates randomly from 'all_dates_list'\n",
    "    # with replacement. This ensures randomness and the correct total number of dates.\n",
    "\n",
    "    if len(all_dates_list) == 0:\n",
    "        raise ValueError(\"The date range is empty. Check your start and end dates.\")\n",
    "    \n",
    "    # Generate random indices to pick dates from the all_dates_list\n",
    "    random_indices = np.random.choice(len(all_dates_list), size=num_rows, replace=True)\n",
    "    \n",
    "    # Select dates based on random indices\n",
    "    assigned_dates = [all_dates_list[i] for i in random_indices]\n",
    "\n",
    "    # Shuffle the assigned_dates to ensure they are not in a specific order based on index generation\n",
    "    np.random.shuffle(assigned_dates)\n",
    "    \n",
    "    # 3. Create the DataFrame and assign dates\n",
    "    df = pd.DataFrame({'Data': range(num_rows)}) # Create a dummy DataFrame with num_rows\n",
    "    df['Date'] = assigned_dates\n",
    "\n",
    "    # Sort by date for better visualization (optional)\n",
    "    df = df.sort_values(by='Date').reset_index(drop=True)\n",
    "    \n",
    "    return df"
   ]
  },
  {
   "cell_type": "code",
   "execution_count": 21,
   "id": "a7674ecc",
   "metadata": {},
   "outputs": [],
   "source": [
    "# Example usage:\n",
    "num_rows = 3000\n",
    "start_year = 2018\n",
    "end_date_str = '2025-06-27' # Current date is June 27, 2025"
   ]
  },
  {
   "cell_type": "code",
   "execution_count": 22,
   "id": "c9ea60ec",
   "metadata": {},
   "outputs": [],
   "source": [
    "df_with_dates = assign_random_dates(num_rows, start_year, end_date_str)"
   ]
  },
  {
   "cell_type": "code",
   "execution_count": 23,
   "id": "c9871eb5",
   "metadata": {},
   "outputs": [
    {
     "name": "stdout",
     "output_type": "stream",
     "text": [
      "DataFrame with 3000 rows and randomly assigned dates:\n"
     ]
    }
   ],
   "source": [
    "print(f\"DataFrame with {num_rows} rows and randomly assigned dates:\")"
   ]
  },
  {
   "cell_type": "code",
   "execution_count": 24,
   "id": "95cd531d",
   "metadata": {},
   "outputs": [
    {
     "name": "stdout",
     "output_type": "stream",
     "text": [
      "   Data       Date\n",
      "0   279 2018-01-01\n",
      "1   749 2018-01-01\n",
      "2   456 2018-01-01\n",
      "3  2369 2018-01-02\n",
      "4   980 2018-01-02\n"
     ]
    }
   ],
   "source": [
    "print(df_with_dates.head())"
   ]
  },
  {
   "cell_type": "code",
   "execution_count": 25,
   "id": "9816183a",
   "metadata": {},
   "outputs": [
    {
     "name": "stdout",
     "output_type": "stream",
     "text": [
      "\n",
      "DataFrame Info:\n",
      "<class 'pandas.core.frame.DataFrame'>\n",
      "RangeIndex: 3000 entries, 0 to 2999\n",
      "Data columns (total 2 columns):\n",
      " #   Column  Non-Null Count  Dtype         \n",
      "---  ------  --------------  -----         \n",
      " 0   Data    3000 non-null   int64         \n",
      " 1   Date    3000 non-null   datetime64[ns]\n",
      "dtypes: datetime64[ns](1), int64(1)\n",
      "memory usage: 47.0 KB\n"
     ]
    }
   ],
   "source": [
    "print(f\"\\nDataFrame Info:\")\n",
    "df_with_dates.info()"
   ]
  },
  {
   "cell_type": "code",
   "execution_count": 26,
   "id": "8a9ba0b5",
   "metadata": {},
   "outputs": [
    {
     "name": "stdout",
     "output_type": "stream",
     "text": [
      "\n",
      "Date range in the DataFrame: 2018-01-01 to 2025-06-27\n"
     ]
    }
   ],
   "source": [
    "print(f\"\\nDate range in the DataFrame: {df_with_dates['Date'].min().date()} to {df_with_dates['Date'].max().date()}\")"
   ]
  },
  {
   "cell_type": "code",
   "execution_count": 27,
   "id": "3341ba65",
   "metadata": {},
   "outputs": [
    {
     "name": "stdout",
     "output_type": "stream",
     "text": [
      "\n",
      "Number of unique dates: 1819\n"
     ]
    }
   ],
   "source": [
    "print(f\"\\nNumber of unique dates: {df_with_dates['Date'].nunique()}\")"
   ]
  },
  {
   "cell_type": "code",
   "execution_count": 28,
   "id": "ca250205",
   "metadata": {},
   "outputs": [
    {
     "name": "stdout",
     "output_type": "stream",
     "text": [
      "\n",
      "Counts of top 10 most frequent dates:\n",
      "2018-11-13    7\n",
      "2024-10-19    6\n",
      "2020-10-08    6\n",
      "2022-12-27    6\n",
      "2022-05-17    5\n",
      "2024-07-14    5\n",
      "2023-04-15    5\n",
      "2021-07-04    5\n",
      "2022-09-02    5\n",
      "2023-01-24    5\n",
      "Name: Date, dtype: int64\n"
     ]
    }
   ],
   "source": [
    "print(f\"\\nCounts of top 10 most frequent dates:\")\n",
    "print(df_with_dates['Date'].value_counts().head(10))"
   ]
  },
  {
   "cell_type": "code",
   "execution_count": 29,
   "id": "650f1ccd",
   "metadata": {},
   "outputs": [
    {
     "data": {
      "text/html": [
       "<div>\n",
       "<style scoped>\n",
       "    .dataframe tbody tr th:only-of-type {\n",
       "        vertical-align: middle;\n",
       "    }\n",
       "\n",
       "    .dataframe tbody tr th {\n",
       "        vertical-align: top;\n",
       "    }\n",
       "\n",
       "    .dataframe thead th {\n",
       "        text-align: right;\n",
       "    }\n",
       "</style>\n",
       "<table border=\"1\" class=\"dataframe\">\n",
       "  <thead>\n",
       "    <tr style=\"text-align: right;\">\n",
       "      <th></th>\n",
       "      <th>Data</th>\n",
       "      <th>Date</th>\n",
       "    </tr>\n",
       "  </thead>\n",
       "  <tbody>\n",
       "    <tr>\n",
       "      <th>0</th>\n",
       "      <td>279</td>\n",
       "      <td>2018-01-01</td>\n",
       "    </tr>\n",
       "    <tr>\n",
       "      <th>1</th>\n",
       "      <td>749</td>\n",
       "      <td>2018-01-01</td>\n",
       "    </tr>\n",
       "    <tr>\n",
       "      <th>2</th>\n",
       "      <td>456</td>\n",
       "      <td>2018-01-01</td>\n",
       "    </tr>\n",
       "    <tr>\n",
       "      <th>3</th>\n",
       "      <td>2369</td>\n",
       "      <td>2018-01-02</td>\n",
       "    </tr>\n",
       "    <tr>\n",
       "      <th>4</th>\n",
       "      <td>980</td>\n",
       "      <td>2018-01-02</td>\n",
       "    </tr>\n",
       "  </tbody>\n",
       "</table>\n",
       "</div>"
      ],
      "text/plain": [
       "   Data       Date\n",
       "0   279 2018-01-01\n",
       "1   749 2018-01-01\n",
       "2   456 2018-01-01\n",
       "3  2369 2018-01-02\n",
       "4   980 2018-01-02"
      ]
     },
     "execution_count": 29,
     "metadata": {},
     "output_type": "execute_result"
    }
   ],
   "source": [
    "df_with_dates.head()"
   ]
  },
  {
   "cell_type": "code",
   "execution_count": 30,
   "id": "4afecd52",
   "metadata": {},
   "outputs": [
    {
     "data": {
      "text/plain": [
       "0      2018-01-01\n",
       "1      2018-01-01\n",
       "2      2018-01-01\n",
       "3      2018-01-02\n",
       "4      2018-01-02\n",
       "          ...    \n",
       "2995   2025-06-21\n",
       "2996   2025-06-25\n",
       "2997   2025-06-25\n",
       "2998   2025-06-27\n",
       "2999   2025-06-27\n",
       "Name: Date, Length: 3000, dtype: datetime64[ns]"
      ]
     },
     "execution_count": 30,
     "metadata": {},
     "output_type": "execute_result"
    }
   ],
   "source": [
    "df_with_dates['Date']"
   ]
  },
  {
   "cell_type": "code",
   "execution_count": 31,
   "id": "fa9fce11",
   "metadata": {},
   "outputs": [],
   "source": [
    "extended_df['Date'] = pd.to_datetime(df_with_dates['Date'])"
   ]
  },
  {
   "cell_type": "code",
   "execution_count": 32,
   "id": "f8802511",
   "metadata": {},
   "outputs": [
    {
     "data": {
      "text/html": [
       "<div>\n",
       "<style scoped>\n",
       "    .dataframe tbody tr th:only-of-type {\n",
       "        vertical-align: middle;\n",
       "    }\n",
       "\n",
       "    .dataframe tbody tr th {\n",
       "        vertical-align: top;\n",
       "    }\n",
       "\n",
       "    .dataframe thead th {\n",
       "        text-align: right;\n",
       "    }\n",
       "</style>\n",
       "<table border=\"1\" class=\"dataframe\">\n",
       "  <thead>\n",
       "    <tr style=\"text-align: right;\">\n",
       "      <th></th>\n",
       "      <th>OrderID</th>\n",
       "      <th>Date</th>\n",
       "      <th>Product</th>\n",
       "      <th>Category</th>\n",
       "      <th>Price</th>\n",
       "      <th>Quantity</th>\n",
       "      <th>TotalSales</th>\n",
       "      <th>CustomerName</th>\n",
       "      <th>CustomerLocation</th>\n",
       "      <th>PaymentMethod</th>\n",
       "      <th>Status</th>\n",
       "    </tr>\n",
       "  </thead>\n",
       "  <tbody>\n",
       "    <tr>\n",
       "      <th>0</th>\n",
       "      <td>ORD0001</td>\n",
       "      <td>2018-01-01</td>\n",
       "      <td>Running Shoes</td>\n",
       "      <td>Footwear</td>\n",
       "      <td>60</td>\n",
       "      <td>3</td>\n",
       "      <td>180</td>\n",
       "      <td>Emma Clark</td>\n",
       "      <td>New York</td>\n",
       "      <td>Debit Card</td>\n",
       "      <td>Cancelled</td>\n",
       "    </tr>\n",
       "    <tr>\n",
       "      <th>1</th>\n",
       "      <td>ORD0002</td>\n",
       "      <td>2018-01-01</td>\n",
       "      <td>Headphones</td>\n",
       "      <td>Electronics</td>\n",
       "      <td>100</td>\n",
       "      <td>4</td>\n",
       "      <td>400</td>\n",
       "      <td>Emily Johnson</td>\n",
       "      <td>San Francisco</td>\n",
       "      <td>Debit Card</td>\n",
       "      <td>Pending</td>\n",
       "    </tr>\n",
       "    <tr>\n",
       "      <th>2</th>\n",
       "      <td>ORD0003</td>\n",
       "      <td>2018-01-01</td>\n",
       "      <td>Running Shoes</td>\n",
       "      <td>Footwear</td>\n",
       "      <td>60</td>\n",
       "      <td>2</td>\n",
       "      <td>120</td>\n",
       "      <td>John Doe</td>\n",
       "      <td>Denver</td>\n",
       "      <td>Amazon Pay</td>\n",
       "      <td>Cancelled</td>\n",
       "    </tr>\n",
       "    <tr>\n",
       "      <th>3</th>\n",
       "      <td>ORD0004</td>\n",
       "      <td>2018-01-02</td>\n",
       "      <td>Running Shoes</td>\n",
       "      <td>Footwear</td>\n",
       "      <td>60</td>\n",
       "      <td>3</td>\n",
       "      <td>180</td>\n",
       "      <td>Olivia Wilson</td>\n",
       "      <td>Dallas</td>\n",
       "      <td>Credit Card</td>\n",
       "      <td>Pending</td>\n",
       "    </tr>\n",
       "    <tr>\n",
       "      <th>4</th>\n",
       "      <td>ORD0005</td>\n",
       "      <td>2018-01-02</td>\n",
       "      <td>Smartwatch</td>\n",
       "      <td>Electronics</td>\n",
       "      <td>150</td>\n",
       "      <td>3</td>\n",
       "      <td>450</td>\n",
       "      <td>Emma Clark</td>\n",
       "      <td>New York</td>\n",
       "      <td>Debit Card</td>\n",
       "      <td>Pending</td>\n",
       "    </tr>\n",
       "  </tbody>\n",
       "</table>\n",
       "</div>"
      ],
      "text/plain": [
       "   OrderID       Date        Product     Category  Price  Quantity  \\\n",
       "0  ORD0001 2018-01-01  Running Shoes     Footwear     60         3   \n",
       "1  ORD0002 2018-01-01     Headphones  Electronics    100         4   \n",
       "2  ORD0003 2018-01-01  Running Shoes     Footwear     60         2   \n",
       "3  ORD0004 2018-01-02  Running Shoes     Footwear     60         3   \n",
       "4  ORD0005 2018-01-02     Smartwatch  Electronics    150         3   \n",
       "\n",
       "   TotalSales   CustomerName CustomerLocation PaymentMethod     Status  \n",
       "0         180     Emma Clark         New York    Debit Card  Cancelled  \n",
       "1         400  Emily Johnson    San Francisco    Debit Card    Pending  \n",
       "2         120       John Doe           Denver    Amazon Pay  Cancelled  \n",
       "3         180  Olivia Wilson           Dallas   Credit Card    Pending  \n",
       "4         450     Emma Clark         New York    Debit Card    Pending  "
      ]
     },
     "execution_count": 32,
     "metadata": {},
     "output_type": "execute_result"
    }
   ],
   "source": [
    "extended_df.head()"
   ]
  },
  {
   "cell_type": "code",
   "execution_count": 33,
   "id": "53ad112a",
   "metadata": {},
   "outputs": [],
   "source": [
    "#extended_df.to_csv('amazon_sales_data_kaggle2.csv')"
   ]
  },
  {
   "cell_type": "code",
   "execution_count": 34,
   "id": "2fd65181",
   "metadata": {},
   "outputs": [
    {
     "name": "stdout",
     "output_type": "stream",
     "text": [
      "<class 'pandas.core.frame.DataFrame'>\n",
      "RangeIndex: 3000 entries, 0 to 2999\n",
      "Data columns (total 11 columns):\n",
      " #   Column            Non-Null Count  Dtype         \n",
      "---  ------            --------------  -----         \n",
      " 0   OrderID           3000 non-null   object        \n",
      " 1   Date              3000 non-null   datetime64[ns]\n",
      " 2   Product           3000 non-null   object        \n",
      " 3   Category          3000 non-null   object        \n",
      " 4   Price             3000 non-null   int64         \n",
      " 5   Quantity          3000 non-null   int64         \n",
      " 6   TotalSales        3000 non-null   int64         \n",
      " 7   CustomerName      3000 non-null   object        \n",
      " 8   CustomerLocation  3000 non-null   object        \n",
      " 9   PaymentMethod     3000 non-null   object        \n",
      " 10  Status            3000 non-null   object        \n",
      "dtypes: datetime64[ns](1), int64(3), object(7)\n",
      "memory usage: 257.9+ KB\n"
     ]
    }
   ],
   "source": [
    "extended_df.info()"
   ]
  },
  {
   "cell_type": "code",
   "execution_count": null,
   "id": "f7f1cae7",
   "metadata": {},
   "outputs": [],
   "source": []
  },
  {
   "cell_type": "code",
   "execution_count": 35,
   "id": "3b6f5eba",
   "metadata": {},
   "outputs": [
    {
     "name": "stdout",
     "output_type": "stream",
     "text": [
      "   dummy_column OrderID\n",
      "0             0    ORD1\n",
      "1             1    ORD2\n",
      "2             2    ORD3\n",
      "3             3    ORD4\n",
      "4             4    ORD5\n",
      "      dummy_column  OrderID\n",
      "2995          2995  ORD2996\n",
      "2996          2996  ORD2997\n",
      "2997          2997  ORD2998\n",
      "2998          2998  ORD2999\n",
      "2999          2999  ORD3000\n",
      "Total unique OrderIDs: 3000\n"
     ]
    }
   ],
   "source": [
    "num_rows = 3000\n",
    "df2 = pd.DataFrame({'dummy_column': range(num_rows)})\n",
    "\n",
    "# Create a Series of numbers (converted to string)\n",
    "order_numbers = pd.Series(range(1, num_rows + 1)).astype(str)\n",
    "\n",
    "# Create a Series of the prefix\n",
    "prefix = pd.Series(['ORD'] * num_rows)\n",
    "\n",
    "# Concatenate them\n",
    "df2['OrderID'] = prefix.str.cat(order_numbers)\n",
    "\n",
    "print(df2.head())\n",
    "print(df2.tail())\n",
    "print(f\"Total unique OrderIDs: {df2['OrderID'].nunique()}\")"
   ]
  },
  {
   "cell_type": "code",
   "execution_count": 36,
   "id": "2a067b91",
   "metadata": {},
   "outputs": [],
   "source": [
    "extended_df['OrderID'] = df2['OrderID']"
   ]
  },
  {
   "cell_type": "code",
   "execution_count": 37,
   "id": "ec780a42",
   "metadata": {},
   "outputs": [
    {
     "data": {
      "text/html": [
       "<div>\n",
       "<style scoped>\n",
       "    .dataframe tbody tr th:only-of-type {\n",
       "        vertical-align: middle;\n",
       "    }\n",
       "\n",
       "    .dataframe tbody tr th {\n",
       "        vertical-align: top;\n",
       "    }\n",
       "\n",
       "    .dataframe thead th {\n",
       "        text-align: right;\n",
       "    }\n",
       "</style>\n",
       "<table border=\"1\" class=\"dataframe\">\n",
       "  <thead>\n",
       "    <tr style=\"text-align: right;\">\n",
       "      <th></th>\n",
       "      <th>OrderID</th>\n",
       "      <th>Date</th>\n",
       "      <th>Product</th>\n",
       "      <th>Category</th>\n",
       "      <th>Price</th>\n",
       "      <th>Quantity</th>\n",
       "      <th>TotalSales</th>\n",
       "      <th>CustomerName</th>\n",
       "      <th>CustomerLocation</th>\n",
       "      <th>PaymentMethod</th>\n",
       "      <th>Status</th>\n",
       "    </tr>\n",
       "  </thead>\n",
       "  <tbody>\n",
       "    <tr>\n",
       "      <th>0</th>\n",
       "      <td>ORD1</td>\n",
       "      <td>2018-01-01</td>\n",
       "      <td>Running Shoes</td>\n",
       "      <td>Footwear</td>\n",
       "      <td>60</td>\n",
       "      <td>3</td>\n",
       "      <td>180</td>\n",
       "      <td>Emma Clark</td>\n",
       "      <td>New York</td>\n",
       "      <td>Debit Card</td>\n",
       "      <td>Cancelled</td>\n",
       "    </tr>\n",
       "    <tr>\n",
       "      <th>1</th>\n",
       "      <td>ORD2</td>\n",
       "      <td>2018-01-01</td>\n",
       "      <td>Headphones</td>\n",
       "      <td>Electronics</td>\n",
       "      <td>100</td>\n",
       "      <td>4</td>\n",
       "      <td>400</td>\n",
       "      <td>Emily Johnson</td>\n",
       "      <td>San Francisco</td>\n",
       "      <td>Debit Card</td>\n",
       "      <td>Pending</td>\n",
       "    </tr>\n",
       "    <tr>\n",
       "      <th>2</th>\n",
       "      <td>ORD3</td>\n",
       "      <td>2018-01-01</td>\n",
       "      <td>Running Shoes</td>\n",
       "      <td>Footwear</td>\n",
       "      <td>60</td>\n",
       "      <td>2</td>\n",
       "      <td>120</td>\n",
       "      <td>John Doe</td>\n",
       "      <td>Denver</td>\n",
       "      <td>Amazon Pay</td>\n",
       "      <td>Cancelled</td>\n",
       "    </tr>\n",
       "    <tr>\n",
       "      <th>3</th>\n",
       "      <td>ORD4</td>\n",
       "      <td>2018-01-02</td>\n",
       "      <td>Running Shoes</td>\n",
       "      <td>Footwear</td>\n",
       "      <td>60</td>\n",
       "      <td>3</td>\n",
       "      <td>180</td>\n",
       "      <td>Olivia Wilson</td>\n",
       "      <td>Dallas</td>\n",
       "      <td>Credit Card</td>\n",
       "      <td>Pending</td>\n",
       "    </tr>\n",
       "    <tr>\n",
       "      <th>4</th>\n",
       "      <td>ORD5</td>\n",
       "      <td>2018-01-02</td>\n",
       "      <td>Smartwatch</td>\n",
       "      <td>Electronics</td>\n",
       "      <td>150</td>\n",
       "      <td>3</td>\n",
       "      <td>450</td>\n",
       "      <td>Emma Clark</td>\n",
       "      <td>New York</td>\n",
       "      <td>Debit Card</td>\n",
       "      <td>Pending</td>\n",
       "    </tr>\n",
       "  </tbody>\n",
       "</table>\n",
       "</div>"
      ],
      "text/plain": [
       "  OrderID       Date        Product     Category  Price  Quantity  TotalSales  \\\n",
       "0    ORD1 2018-01-01  Running Shoes     Footwear     60         3         180   \n",
       "1    ORD2 2018-01-01     Headphones  Electronics    100         4         400   \n",
       "2    ORD3 2018-01-01  Running Shoes     Footwear     60         2         120   \n",
       "3    ORD4 2018-01-02  Running Shoes     Footwear     60         3         180   \n",
       "4    ORD5 2018-01-02     Smartwatch  Electronics    150         3         450   \n",
       "\n",
       "    CustomerName CustomerLocation PaymentMethod     Status  \n",
       "0     Emma Clark         New York    Debit Card  Cancelled  \n",
       "1  Emily Johnson    San Francisco    Debit Card    Pending  \n",
       "2       John Doe           Denver    Amazon Pay  Cancelled  \n",
       "3  Olivia Wilson           Dallas   Credit Card    Pending  \n",
       "4     Emma Clark         New York    Debit Card    Pending  "
      ]
     },
     "execution_count": 37,
     "metadata": {},
     "output_type": "execute_result"
    }
   ],
   "source": [
    "extended_df.head()"
   ]
  },
  {
   "cell_type": "code",
   "execution_count": 38,
   "id": "9526c772",
   "metadata": {},
   "outputs": [
    {
     "data": {
      "text/html": [
       "<div>\n",
       "<style scoped>\n",
       "    .dataframe tbody tr th:only-of-type {\n",
       "        vertical-align: middle;\n",
       "    }\n",
       "\n",
       "    .dataframe tbody tr th {\n",
       "        vertical-align: top;\n",
       "    }\n",
       "\n",
       "    .dataframe thead th {\n",
       "        text-align: right;\n",
       "    }\n",
       "</style>\n",
       "<table border=\"1\" class=\"dataframe\">\n",
       "  <thead>\n",
       "    <tr style=\"text-align: right;\">\n",
       "      <th></th>\n",
       "      <th>OrderID</th>\n",
       "      <th>Date</th>\n",
       "      <th>Product</th>\n",
       "      <th>Category</th>\n",
       "      <th>Price</th>\n",
       "      <th>Quantity</th>\n",
       "      <th>TotalSales</th>\n",
       "      <th>CustomerName</th>\n",
       "      <th>CustomerLocation</th>\n",
       "      <th>PaymentMethod</th>\n",
       "      <th>Status</th>\n",
       "    </tr>\n",
       "  </thead>\n",
       "  <tbody>\n",
       "    <tr>\n",
       "      <th>2995</th>\n",
       "      <td>ORD2996</td>\n",
       "      <td>2025-06-21</td>\n",
       "      <td>Laptop</td>\n",
       "      <td>Electronics</td>\n",
       "      <td>800</td>\n",
       "      <td>5</td>\n",
       "      <td>4000</td>\n",
       "      <td>Emily Johnson</td>\n",
       "      <td>Denver</td>\n",
       "      <td>PayPal</td>\n",
       "      <td>Completed</td>\n",
       "    </tr>\n",
       "    <tr>\n",
       "      <th>2996</th>\n",
       "      <td>ORD2997</td>\n",
       "      <td>2025-06-25</td>\n",
       "      <td>Smartwatch</td>\n",
       "      <td>Electronics</td>\n",
       "      <td>150</td>\n",
       "      <td>1</td>\n",
       "      <td>150</td>\n",
       "      <td>Chris White</td>\n",
       "      <td>Houston</td>\n",
       "      <td>Debit Card</td>\n",
       "      <td>Pending</td>\n",
       "    </tr>\n",
       "    <tr>\n",
       "      <th>2997</th>\n",
       "      <td>ORD2998</td>\n",
       "      <td>2025-06-25</td>\n",
       "      <td>Smartwatch</td>\n",
       "      <td>Electronics</td>\n",
       "      <td>150</td>\n",
       "      <td>2</td>\n",
       "      <td>300</td>\n",
       "      <td>Emma Clark</td>\n",
       "      <td>Dallas</td>\n",
       "      <td>Credit Card</td>\n",
       "      <td>Completed</td>\n",
       "    </tr>\n",
       "    <tr>\n",
       "      <th>2998</th>\n",
       "      <td>ORD2999</td>\n",
       "      <td>2025-06-27</td>\n",
       "      <td>Smartwatch</td>\n",
       "      <td>Electronics</td>\n",
       "      <td>150</td>\n",
       "      <td>4</td>\n",
       "      <td>600</td>\n",
       "      <td>Olivia Wilson</td>\n",
       "      <td>Miami</td>\n",
       "      <td>PayPal</td>\n",
       "      <td>Cancelled</td>\n",
       "    </tr>\n",
       "    <tr>\n",
       "      <th>2999</th>\n",
       "      <td>ORD3000</td>\n",
       "      <td>2025-06-27</td>\n",
       "      <td>Laptop</td>\n",
       "      <td>Electronics</td>\n",
       "      <td>800</td>\n",
       "      <td>4</td>\n",
       "      <td>3200</td>\n",
       "      <td>Emma Clark</td>\n",
       "      <td>Los Angeles</td>\n",
       "      <td>Credit Card</td>\n",
       "      <td>Completed</td>\n",
       "    </tr>\n",
       "  </tbody>\n",
       "</table>\n",
       "</div>"
      ],
      "text/plain": [
       "      OrderID       Date     Product     Category  Price  Quantity  \\\n",
       "2995  ORD2996 2025-06-21      Laptop  Electronics    800         5   \n",
       "2996  ORD2997 2025-06-25  Smartwatch  Electronics    150         1   \n",
       "2997  ORD2998 2025-06-25  Smartwatch  Electronics    150         2   \n",
       "2998  ORD2999 2025-06-27  Smartwatch  Electronics    150         4   \n",
       "2999  ORD3000 2025-06-27      Laptop  Electronics    800         4   \n",
       "\n",
       "      TotalSales   CustomerName CustomerLocation PaymentMethod     Status  \n",
       "2995        4000  Emily Johnson           Denver        PayPal  Completed  \n",
       "2996         150    Chris White          Houston    Debit Card    Pending  \n",
       "2997         300     Emma Clark           Dallas   Credit Card  Completed  \n",
       "2998         600  Olivia Wilson            Miami        PayPal  Cancelled  \n",
       "2999        3200     Emma Clark      Los Angeles   Credit Card  Completed  "
      ]
     },
     "execution_count": 38,
     "metadata": {},
     "output_type": "execute_result"
    }
   ],
   "source": [
    "extended_df.tail()"
   ]
  },
  {
   "cell_type": "code",
   "execution_count": 39,
   "id": "f8390237",
   "metadata": {},
   "outputs": [],
   "source": [
    "#extended_df.to_csv('amazon_sales_data_kaggle2.csv')"
   ]
  },
  {
   "cell_type": "code",
   "execution_count": 40,
   "id": "91f0eafe",
   "metadata": {},
   "outputs": [],
   "source": [
    "df_updated = extended_df.copy()"
   ]
  },
  {
   "cell_type": "code",
   "execution_count": 41,
   "id": "bf245cbe",
   "metadata": {},
   "outputs": [],
   "source": [
    "# Base cost mapping for 2018\n",
    "base_cost_2018 = {\n",
    "        'Running Shoes': 2250,\n",
    "        'Headphones': 2500,\n",
    "        'Smartwatch': 2000,\n",
    "        'T-Shirt': 749,\n",
    "        'Smartphone': 5991,\n",
    "        'Book': 200,\n",
    "        'Jeans': 1600,\n",
    "        'Laptop': 37500,\n",
    "        'Washing Machine': 16000,\n",
    "        'Refrigerator': 20000\n",
    "}"
   ]
  },
  {
   "cell_type": "code",
   "execution_count": 42,
   "id": "caa52b2d",
   "metadata": {},
   "outputs": [],
   "source": [
    "# Year-based price increases (cumulative from 2018 base)\n",
    "year_increases = {\n",
    "        2018: 0,\n",
    "        2019: 4.5,\n",
    "        2020: 9.2,\n",
    "        2021: 14.1,\n",
    "        2022: 19.2,\n",
    "        2023: 24.6,\n",
    "        2024: 30.7,\n",
    "        2025: 36.0\n",
    "}"
   ]
  },
  {
   "cell_type": "code",
   "execution_count": 43,
   "id": "207b3644",
   "metadata": {},
   "outputs": [],
   "source": [
    "# Margin percentages for each product\n",
    "margins = {\n",
    "        'Running Shoes': 30.0,\n",
    "        'Headphones': 20.0,\n",
    "        'Smartwatch': 22.5,\n",
    "        'T-Shirt': 55.0,\n",
    "        'Smartphone': 11.5,\n",
    "        'Book': 15.0,\n",
    "        'Jeans': 45.0,\n",
    "        'Laptop': 17.5,\n",
    "        'Washing Machine': 20.0,\n",
    "        'Refrigerator': 15.0\n",
    "}\n",
    "    "
   ]
  },
  {
   "cell_type": "code",
   "execution_count": 44,
   "id": "94a37858",
   "metadata": {},
   "outputs": [],
   "source": [
    "# Ensure Date column is datetime\n",
    "df_updated['Date'] = pd.to_datetime(df_updated['Date'])"
   ]
  },
  {
   "cell_type": "code",
   "execution_count": 45,
   "id": "bad906b7",
   "metadata": {},
   "outputs": [],
   "source": [
    "# Extract year from date\n",
    "df_updated['Year'] = df_updated['Date'].dt.year"
   ]
  },
  {
   "cell_type": "code",
   "execution_count": 46,
   "id": "83b07419",
   "metadata": {},
   "outputs": [],
   "source": [
    "# Initialize BaseCost and SellingPrice columns\n",
    "df_updated['BaseCost'] = 0.0\n",
    "df_updated['SellingPrice'] = 0.0"
   ]
  },
  {
   "cell_type": "code",
   "execution_count": 47,
   "id": "541e21df",
   "metadata": {},
   "outputs": [],
   "source": [
    "# Calculate BaseCost and SellingPrice for each row\n",
    "for idx, row in df_updated.iterrows():\n",
    "    product = row['Product']\n",
    "    year = row['Year']\n",
    "\n",
    "    # Get base cost for 2018\n",
    "    base_2018 = base_cost_2018.get(product, 0)\n",
    "\n",
    "    # Get year increase percentage\n",
    "    year_increase = year_increases.get(year, 0)\n",
    "\n",
    "    # Calculate BaseCost with year adjustment\n",
    "    # BaseCost = Base2018 + (Base2018 * YearIncrease / 100)\n",
    "    base_cost = base_2018 + (base_2018 * year_increase / 100)\n",
    "    df_updated.at[idx, 'BaseCost'] = round(base_cost, 2)\n",
    "\n",
    "    # Get margin for the product\n",
    "    margin_percent = margins.get(product, 0)\n",
    "\n",
    "    # Calculate SellingPrice\n",
    "    # SellingPrice = BaseCost + (BaseCost * Margin / 100)\n",
    "    selling_price = base_cost + (base_cost * margin_percent / 100)\n",
    "    df_updated.at[idx, 'SellingPrice'] = round(selling_price, 2)"
   ]
  },
  {
   "cell_type": "code",
   "execution_count": 48,
   "id": "a578fbb1",
   "metadata": {},
   "outputs": [],
   "source": [
    "df_updated['TotalSales'] = df_updated['SellingPrice'] * df_updated['Quantity']"
   ]
  },
  {
   "cell_type": "code",
   "execution_count": 49,
   "id": "98c53176",
   "metadata": {},
   "outputs": [
    {
     "data": {
      "text/plain": [
       "Index(['OrderID', 'Date', 'Product', 'Category', 'Price', 'Quantity',\n",
       "       'TotalSales', 'CustomerName', 'CustomerLocation', 'PaymentMethod',\n",
       "       'Status', 'Year', 'BaseCost', 'SellingPrice'],\n",
       "      dtype='object')"
      ]
     },
     "execution_count": 49,
     "metadata": {},
     "output_type": "execute_result"
    }
   ],
   "source": [
    "df_updated.columns"
   ]
  },
  {
   "cell_type": "code",
   "execution_count": 50,
   "id": "387a8d84",
   "metadata": {},
   "outputs": [],
   "source": [
    "cols = ['OrderID', 'Date', 'Product', 'Category','BaseCost',\n",
    "       'SellingPrice','Quantity','TotalSales', 'CustomerName', \n",
    "        'CustomerLocation', 'PaymentMethod','Status']"
   ]
  },
  {
   "cell_type": "code",
   "execution_count": 51,
   "id": "4a9b17dc",
   "metadata": {},
   "outputs": [],
   "source": [
    "df_updated = df_updated[cols]"
   ]
  },
  {
   "cell_type": "code",
   "execution_count": 52,
   "id": "a245fa07",
   "metadata": {},
   "outputs": [
    {
     "data": {
      "text/html": [
       "<div>\n",
       "<style scoped>\n",
       "    .dataframe tbody tr th:only-of-type {\n",
       "        vertical-align: middle;\n",
       "    }\n",
       "\n",
       "    .dataframe tbody tr th {\n",
       "        vertical-align: top;\n",
       "    }\n",
       "\n",
       "    .dataframe thead th {\n",
       "        text-align: right;\n",
       "    }\n",
       "</style>\n",
       "<table border=\"1\" class=\"dataframe\">\n",
       "  <thead>\n",
       "    <tr style=\"text-align: right;\">\n",
       "      <th></th>\n",
       "      <th>OrderID</th>\n",
       "      <th>Date</th>\n",
       "      <th>Product</th>\n",
       "      <th>Category</th>\n",
       "      <th>BaseCost</th>\n",
       "      <th>SellingPrice</th>\n",
       "      <th>Quantity</th>\n",
       "      <th>TotalSales</th>\n",
       "      <th>CustomerName</th>\n",
       "      <th>CustomerLocation</th>\n",
       "      <th>PaymentMethod</th>\n",
       "      <th>Status</th>\n",
       "    </tr>\n",
       "  </thead>\n",
       "  <tbody>\n",
       "    <tr>\n",
       "      <th>0</th>\n",
       "      <td>ORD1</td>\n",
       "      <td>2018-01-01</td>\n",
       "      <td>Running Shoes</td>\n",
       "      <td>Footwear</td>\n",
       "      <td>2250.0</td>\n",
       "      <td>2925.0</td>\n",
       "      <td>3</td>\n",
       "      <td>8775.0</td>\n",
       "      <td>Emma Clark</td>\n",
       "      <td>New York</td>\n",
       "      <td>Debit Card</td>\n",
       "      <td>Cancelled</td>\n",
       "    </tr>\n",
       "    <tr>\n",
       "      <th>1</th>\n",
       "      <td>ORD2</td>\n",
       "      <td>2018-01-01</td>\n",
       "      <td>Headphones</td>\n",
       "      <td>Electronics</td>\n",
       "      <td>2500.0</td>\n",
       "      <td>3000.0</td>\n",
       "      <td>4</td>\n",
       "      <td>12000.0</td>\n",
       "      <td>Emily Johnson</td>\n",
       "      <td>San Francisco</td>\n",
       "      <td>Debit Card</td>\n",
       "      <td>Pending</td>\n",
       "    </tr>\n",
       "    <tr>\n",
       "      <th>2</th>\n",
       "      <td>ORD3</td>\n",
       "      <td>2018-01-01</td>\n",
       "      <td>Running Shoes</td>\n",
       "      <td>Footwear</td>\n",
       "      <td>2250.0</td>\n",
       "      <td>2925.0</td>\n",
       "      <td>2</td>\n",
       "      <td>5850.0</td>\n",
       "      <td>John Doe</td>\n",
       "      <td>Denver</td>\n",
       "      <td>Amazon Pay</td>\n",
       "      <td>Cancelled</td>\n",
       "    </tr>\n",
       "    <tr>\n",
       "      <th>3</th>\n",
       "      <td>ORD4</td>\n",
       "      <td>2018-01-02</td>\n",
       "      <td>Running Shoes</td>\n",
       "      <td>Footwear</td>\n",
       "      <td>2250.0</td>\n",
       "      <td>2925.0</td>\n",
       "      <td>3</td>\n",
       "      <td>8775.0</td>\n",
       "      <td>Olivia Wilson</td>\n",
       "      <td>Dallas</td>\n",
       "      <td>Credit Card</td>\n",
       "      <td>Pending</td>\n",
       "    </tr>\n",
       "    <tr>\n",
       "      <th>4</th>\n",
       "      <td>ORD5</td>\n",
       "      <td>2018-01-02</td>\n",
       "      <td>Smartwatch</td>\n",
       "      <td>Electronics</td>\n",
       "      <td>2000.0</td>\n",
       "      <td>2450.0</td>\n",
       "      <td>3</td>\n",
       "      <td>7350.0</td>\n",
       "      <td>Emma Clark</td>\n",
       "      <td>New York</td>\n",
       "      <td>Debit Card</td>\n",
       "      <td>Pending</td>\n",
       "    </tr>\n",
       "    <tr>\n",
       "      <th>...</th>\n",
       "      <td>...</td>\n",
       "      <td>...</td>\n",
       "      <td>...</td>\n",
       "      <td>...</td>\n",
       "      <td>...</td>\n",
       "      <td>...</td>\n",
       "      <td>...</td>\n",
       "      <td>...</td>\n",
       "      <td>...</td>\n",
       "      <td>...</td>\n",
       "      <td>...</td>\n",
       "      <td>...</td>\n",
       "    </tr>\n",
       "    <tr>\n",
       "      <th>2995</th>\n",
       "      <td>ORD2996</td>\n",
       "      <td>2025-06-21</td>\n",
       "      <td>Laptop</td>\n",
       "      <td>Electronics</td>\n",
       "      <td>51000.0</td>\n",
       "      <td>59925.0</td>\n",
       "      <td>5</td>\n",
       "      <td>299625.0</td>\n",
       "      <td>Emily Johnson</td>\n",
       "      <td>Denver</td>\n",
       "      <td>PayPal</td>\n",
       "      <td>Completed</td>\n",
       "    </tr>\n",
       "    <tr>\n",
       "      <th>2996</th>\n",
       "      <td>ORD2997</td>\n",
       "      <td>2025-06-25</td>\n",
       "      <td>Smartwatch</td>\n",
       "      <td>Electronics</td>\n",
       "      <td>2720.0</td>\n",
       "      <td>3332.0</td>\n",
       "      <td>1</td>\n",
       "      <td>3332.0</td>\n",
       "      <td>Chris White</td>\n",
       "      <td>Houston</td>\n",
       "      <td>Debit Card</td>\n",
       "      <td>Pending</td>\n",
       "    </tr>\n",
       "    <tr>\n",
       "      <th>2997</th>\n",
       "      <td>ORD2998</td>\n",
       "      <td>2025-06-25</td>\n",
       "      <td>Smartwatch</td>\n",
       "      <td>Electronics</td>\n",
       "      <td>2720.0</td>\n",
       "      <td>3332.0</td>\n",
       "      <td>2</td>\n",
       "      <td>6664.0</td>\n",
       "      <td>Emma Clark</td>\n",
       "      <td>Dallas</td>\n",
       "      <td>Credit Card</td>\n",
       "      <td>Completed</td>\n",
       "    </tr>\n",
       "    <tr>\n",
       "      <th>2998</th>\n",
       "      <td>ORD2999</td>\n",
       "      <td>2025-06-27</td>\n",
       "      <td>Smartwatch</td>\n",
       "      <td>Electronics</td>\n",
       "      <td>2720.0</td>\n",
       "      <td>3332.0</td>\n",
       "      <td>4</td>\n",
       "      <td>13328.0</td>\n",
       "      <td>Olivia Wilson</td>\n",
       "      <td>Miami</td>\n",
       "      <td>PayPal</td>\n",
       "      <td>Cancelled</td>\n",
       "    </tr>\n",
       "    <tr>\n",
       "      <th>2999</th>\n",
       "      <td>ORD3000</td>\n",
       "      <td>2025-06-27</td>\n",
       "      <td>Laptop</td>\n",
       "      <td>Electronics</td>\n",
       "      <td>51000.0</td>\n",
       "      <td>59925.0</td>\n",
       "      <td>4</td>\n",
       "      <td>239700.0</td>\n",
       "      <td>Emma Clark</td>\n",
       "      <td>Los Angeles</td>\n",
       "      <td>Credit Card</td>\n",
       "      <td>Completed</td>\n",
       "    </tr>\n",
       "  </tbody>\n",
       "</table>\n",
       "<p>3000 rows × 12 columns</p>\n",
       "</div>"
      ],
      "text/plain": [
       "      OrderID       Date        Product     Category  BaseCost  SellingPrice  \\\n",
       "0        ORD1 2018-01-01  Running Shoes     Footwear    2250.0        2925.0   \n",
       "1        ORD2 2018-01-01     Headphones  Electronics    2500.0        3000.0   \n",
       "2        ORD3 2018-01-01  Running Shoes     Footwear    2250.0        2925.0   \n",
       "3        ORD4 2018-01-02  Running Shoes     Footwear    2250.0        2925.0   \n",
       "4        ORD5 2018-01-02     Smartwatch  Electronics    2000.0        2450.0   \n",
       "...       ...        ...            ...          ...       ...           ...   \n",
       "2995  ORD2996 2025-06-21         Laptop  Electronics   51000.0       59925.0   \n",
       "2996  ORD2997 2025-06-25     Smartwatch  Electronics    2720.0        3332.0   \n",
       "2997  ORD2998 2025-06-25     Smartwatch  Electronics    2720.0        3332.0   \n",
       "2998  ORD2999 2025-06-27     Smartwatch  Electronics    2720.0        3332.0   \n",
       "2999  ORD3000 2025-06-27         Laptop  Electronics   51000.0       59925.0   \n",
       "\n",
       "      Quantity  TotalSales   CustomerName CustomerLocation PaymentMethod  \\\n",
       "0            3      8775.0     Emma Clark         New York    Debit Card   \n",
       "1            4     12000.0  Emily Johnson    San Francisco    Debit Card   \n",
       "2            2      5850.0       John Doe           Denver    Amazon Pay   \n",
       "3            3      8775.0  Olivia Wilson           Dallas   Credit Card   \n",
       "4            3      7350.0     Emma Clark         New York    Debit Card   \n",
       "...        ...         ...            ...              ...           ...   \n",
       "2995         5    299625.0  Emily Johnson           Denver        PayPal   \n",
       "2996         1      3332.0    Chris White          Houston    Debit Card   \n",
       "2997         2      6664.0     Emma Clark           Dallas   Credit Card   \n",
       "2998         4     13328.0  Olivia Wilson            Miami        PayPal   \n",
       "2999         4    239700.0     Emma Clark      Los Angeles   Credit Card   \n",
       "\n",
       "         Status  \n",
       "0     Cancelled  \n",
       "1       Pending  \n",
       "2     Cancelled  \n",
       "3       Pending  \n",
       "4       Pending  \n",
       "...         ...  \n",
       "2995  Completed  \n",
       "2996    Pending  \n",
       "2997  Completed  \n",
       "2998  Cancelled  \n",
       "2999  Completed  \n",
       "\n",
       "[3000 rows x 12 columns]"
      ]
     },
     "execution_count": 52,
     "metadata": {},
     "output_type": "execute_result"
    }
   ],
   "source": [
    "df_updated"
   ]
  },
  {
   "cell_type": "code",
   "execution_count": 53,
   "id": "c91d63aa",
   "metadata": {},
   "outputs": [],
   "source": [
    "#df_updated.to_csv('amazon_sales_data_kaggle3.csv')"
   ]
  },
  {
   "cell_type": "code",
   "execution_count": null,
   "id": "0f079e14",
   "metadata": {},
   "outputs": [],
   "source": []
  },
  {
   "cell_type": "code",
   "execution_count": 54,
   "id": "7d9c3aeb",
   "metadata": {},
   "outputs": [
    {
     "data": {
      "text/html": [
       "<div>\n",
       "<style scoped>\n",
       "    .dataframe tbody tr th:only-of-type {\n",
       "        vertical-align: middle;\n",
       "    }\n",
       "\n",
       "    .dataframe tbody tr th {\n",
       "        vertical-align: top;\n",
       "    }\n",
       "\n",
       "    .dataframe thead th {\n",
       "        text-align: right;\n",
       "    }\n",
       "</style>\n",
       "<table border=\"1\" class=\"dataframe\">\n",
       "  <thead>\n",
       "    <tr style=\"text-align: right;\">\n",
       "      <th></th>\n",
       "      <th>Name</th>\n",
       "      <th>City</th>\n",
       "    </tr>\n",
       "  </thead>\n",
       "  <tbody>\n",
       "    <tr>\n",
       "      <th>0</th>\n",
       "      <td>Aarav Sharma</td>\n",
       "      <td>Bengaluru</td>\n",
       "    </tr>\n",
       "    <tr>\n",
       "      <th>1</th>\n",
       "      <td>Aditi Singh</td>\n",
       "      <td>Mumbai</td>\n",
       "    </tr>\n",
       "    <tr>\n",
       "      <th>2</th>\n",
       "      <td>Advik Gupta</td>\n",
       "      <td>Delhi</td>\n",
       "    </tr>\n",
       "    <tr>\n",
       "      <th>3</th>\n",
       "      <td>Ananya Patel</td>\n",
       "      <td>Chennai</td>\n",
       "    </tr>\n",
       "    <tr>\n",
       "      <th>4</th>\n",
       "      <td>Arjun Kumar</td>\n",
       "      <td>Kolkata</td>\n",
       "    </tr>\n",
       "  </tbody>\n",
       "</table>\n",
       "</div>"
      ],
      "text/plain": [
       "           Name       City\n",
       "0  Aarav Sharma  Bengaluru\n",
       "1   Aditi Singh     Mumbai\n",
       "2   Advik Gupta      Delhi\n",
       "3  Ananya Patel    Chennai\n",
       "4   Arjun Kumar    Kolkata"
      ]
     },
     "execution_count": 54,
     "metadata": {},
     "output_type": "execute_result"
    }
   ],
   "source": [
    "names = pd.read_csv(\"Name_City.csv\")\n",
    "names.head()"
   ]
  },
  {
   "cell_type": "code",
   "execution_count": 55,
   "id": "dcf2c002",
   "metadata": {},
   "outputs": [],
   "source": [
    "# Determine how many new rows are needed\n",
    "current_rows = len(names)\n",
    "target_rows = 3000\n",
    "rows_to_add = target_rows - current_rows"
   ]
  },
  {
   "cell_type": "code",
   "execution_count": 57,
   "id": "4105630e",
   "metadata": {},
   "outputs": [
    {
     "name": "stdout",
     "output_type": "stream",
     "text": [
      "Successfully expanded dataset to 3000 rows. Saved as 'expanded_data.csv'\n"
     ]
    }
   ],
   "source": [
    "if rows_to_add <= 0:\n",
    "    print(f\"Your dataset already has {current_rows} rows. No new rows will be added.\")\n",
    "else:\n",
    "    # Randomly sample from the original DataFrame to create the new rows\n",
    "    # `replace=True` allows for duplicate selections, ensuring we can reach 3000 rows\n",
    "    new_rows_df = names.sample(n=rows_to_add, replace=True, random_state=42) # random_state for reproducibility\n",
    "\n",
    "    # Concatenate the original and new rows\n",
    "    name_df = pd.concat([names, new_rows_df]).reset_index(drop=True)\n",
    "    print(f\"Successfully expanded dataset to {len(name_df)} rows. Saved as 'expanded_data.csv'\")"
   ]
  },
  {
   "cell_type": "code",
   "execution_count": 58,
   "id": "b5985805",
   "metadata": {},
   "outputs": [
    {
     "name": "stdout",
     "output_type": "stream",
     "text": [
      "<class 'pandas.core.frame.DataFrame'>\n",
      "RangeIndex: 3000 entries, 0 to 2999\n",
      "Data columns (total 2 columns):\n",
      " #   Column  Non-Null Count  Dtype \n",
      "---  ------  --------------  ----- \n",
      " 0   Name    3000 non-null   object\n",
      " 1   City    3000 non-null   object\n",
      "dtypes: object(2)\n",
      "memory usage: 47.0+ KB\n"
     ]
    }
   ],
   "source": [
    "name_df.info()"
   ]
  },
  {
   "cell_type": "code",
   "execution_count": 59,
   "id": "5885133e",
   "metadata": {},
   "outputs": [],
   "source": [
    "df_updated['CustomerName'] = name_df['Name']\n",
    "df_updated['CustomerLocation'] = name_df['City']"
   ]
  },
  {
   "cell_type": "code",
   "execution_count": 60,
   "id": "5e9fb643",
   "metadata": {},
   "outputs": [
    {
     "data": {
      "text/html": [
       "<div>\n",
       "<style scoped>\n",
       "    .dataframe tbody tr th:only-of-type {\n",
       "        vertical-align: middle;\n",
       "    }\n",
       "\n",
       "    .dataframe tbody tr th {\n",
       "        vertical-align: top;\n",
       "    }\n",
       "\n",
       "    .dataframe thead th {\n",
       "        text-align: right;\n",
       "    }\n",
       "</style>\n",
       "<table border=\"1\" class=\"dataframe\">\n",
       "  <thead>\n",
       "    <tr style=\"text-align: right;\">\n",
       "      <th></th>\n",
       "      <th>OrderID</th>\n",
       "      <th>Date</th>\n",
       "      <th>Product</th>\n",
       "      <th>Category</th>\n",
       "      <th>BaseCost</th>\n",
       "      <th>SellingPrice</th>\n",
       "      <th>Quantity</th>\n",
       "      <th>TotalSales</th>\n",
       "      <th>CustomerName</th>\n",
       "      <th>CustomerLocation</th>\n",
       "      <th>PaymentMethod</th>\n",
       "      <th>Status</th>\n",
       "    </tr>\n",
       "  </thead>\n",
       "  <tbody>\n",
       "    <tr>\n",
       "      <th>0</th>\n",
       "      <td>ORD1</td>\n",
       "      <td>2018-01-01</td>\n",
       "      <td>Running Shoes</td>\n",
       "      <td>Footwear</td>\n",
       "      <td>2250.0</td>\n",
       "      <td>2925.0</td>\n",
       "      <td>3</td>\n",
       "      <td>8775.0</td>\n",
       "      <td>Aarav Sharma</td>\n",
       "      <td>Bengaluru</td>\n",
       "      <td>Debit Card</td>\n",
       "      <td>Cancelled</td>\n",
       "    </tr>\n",
       "    <tr>\n",
       "      <th>1</th>\n",
       "      <td>ORD2</td>\n",
       "      <td>2018-01-01</td>\n",
       "      <td>Headphones</td>\n",
       "      <td>Electronics</td>\n",
       "      <td>2500.0</td>\n",
       "      <td>3000.0</td>\n",
       "      <td>4</td>\n",
       "      <td>12000.0</td>\n",
       "      <td>Aditi Singh</td>\n",
       "      <td>Mumbai</td>\n",
       "      <td>Debit Card</td>\n",
       "      <td>Pending</td>\n",
       "    </tr>\n",
       "    <tr>\n",
       "      <th>2</th>\n",
       "      <td>ORD3</td>\n",
       "      <td>2018-01-01</td>\n",
       "      <td>Running Shoes</td>\n",
       "      <td>Footwear</td>\n",
       "      <td>2250.0</td>\n",
       "      <td>2925.0</td>\n",
       "      <td>2</td>\n",
       "      <td>5850.0</td>\n",
       "      <td>Advik Gupta</td>\n",
       "      <td>Delhi</td>\n",
       "      <td>Amazon Pay</td>\n",
       "      <td>Cancelled</td>\n",
       "    </tr>\n",
       "    <tr>\n",
       "      <th>3</th>\n",
       "      <td>ORD4</td>\n",
       "      <td>2018-01-02</td>\n",
       "      <td>Running Shoes</td>\n",
       "      <td>Footwear</td>\n",
       "      <td>2250.0</td>\n",
       "      <td>2925.0</td>\n",
       "      <td>3</td>\n",
       "      <td>8775.0</td>\n",
       "      <td>Ananya Patel</td>\n",
       "      <td>Chennai</td>\n",
       "      <td>Credit Card</td>\n",
       "      <td>Pending</td>\n",
       "    </tr>\n",
       "    <tr>\n",
       "      <th>4</th>\n",
       "      <td>ORD5</td>\n",
       "      <td>2018-01-02</td>\n",
       "      <td>Smartwatch</td>\n",
       "      <td>Electronics</td>\n",
       "      <td>2000.0</td>\n",
       "      <td>2450.0</td>\n",
       "      <td>3</td>\n",
       "      <td>7350.0</td>\n",
       "      <td>Arjun Kumar</td>\n",
       "      <td>Kolkata</td>\n",
       "      <td>Debit Card</td>\n",
       "      <td>Pending</td>\n",
       "    </tr>\n",
       "  </tbody>\n",
       "</table>\n",
       "</div>"
      ],
      "text/plain": [
       "  OrderID       Date        Product     Category  BaseCost  SellingPrice  \\\n",
       "0    ORD1 2018-01-01  Running Shoes     Footwear    2250.0        2925.0   \n",
       "1    ORD2 2018-01-01     Headphones  Electronics    2500.0        3000.0   \n",
       "2    ORD3 2018-01-01  Running Shoes     Footwear    2250.0        2925.0   \n",
       "3    ORD4 2018-01-02  Running Shoes     Footwear    2250.0        2925.0   \n",
       "4    ORD5 2018-01-02     Smartwatch  Electronics    2000.0        2450.0   \n",
       "\n",
       "   Quantity  TotalSales  CustomerName CustomerLocation PaymentMethod  \\\n",
       "0         3      8775.0  Aarav Sharma        Bengaluru    Debit Card   \n",
       "1         4     12000.0   Aditi Singh           Mumbai    Debit Card   \n",
       "2         2      5850.0   Advik Gupta            Delhi    Amazon Pay   \n",
       "3         3      8775.0  Ananya Patel          Chennai   Credit Card   \n",
       "4         3      7350.0   Arjun Kumar          Kolkata    Debit Card   \n",
       "\n",
       "      Status  \n",
       "0  Cancelled  \n",
       "1    Pending  \n",
       "2  Cancelled  \n",
       "3    Pending  \n",
       "4    Pending  "
      ]
     },
     "execution_count": 60,
     "metadata": {},
     "output_type": "execute_result"
    }
   ],
   "source": [
    "df_updated.head()"
   ]
  },
  {
   "cell_type": "code",
   "execution_count": null,
   "id": "a1fcb7a4",
   "metadata": {},
   "outputs": [],
   "source": []
  },
  {
   "cell_type": "code",
   "execution_count": 61,
   "id": "d2b0b4d5",
   "metadata": {},
   "outputs": [],
   "source": [
    "df_updated.to_csv('amazon_sales_data_kaggle4.csv')"
   ]
  },
  {
   "cell_type": "code",
   "execution_count": 62,
   "id": "0c2dac71",
   "metadata": {},
   "outputs": [
    {
     "data": {
      "text/plain": [
       "pandas.core.series.Series"
      ]
     },
     "execution_count": 62,
     "metadata": {},
     "output_type": "execute_result"
    }
   ],
   "source": [
    "type(df_updated['Date'])"
   ]
  },
  {
   "cell_type": "code",
   "execution_count": 63,
   "id": "e06f9518",
   "metadata": {},
   "outputs": [
    {
     "name": "stdout",
     "output_type": "stream",
     "text": [
      "<class 'pandas.core.frame.DataFrame'>\n",
      "RangeIndex: 3000 entries, 0 to 2999\n",
      "Data columns (total 12 columns):\n",
      " #   Column            Non-Null Count  Dtype         \n",
      "---  ------            --------------  -----         \n",
      " 0   OrderID           3000 non-null   object        \n",
      " 1   Date              3000 non-null   datetime64[ns]\n",
      " 2   Product           3000 non-null   object        \n",
      " 3   Category          3000 non-null   object        \n",
      " 4   BaseCost          3000 non-null   float64       \n",
      " 5   SellingPrice      3000 non-null   float64       \n",
      " 6   Quantity          3000 non-null   int64         \n",
      " 7   TotalSales        3000 non-null   float64       \n",
      " 8   CustomerName      3000 non-null   object        \n",
      " 9   CustomerLocation  3000 non-null   object        \n",
      " 10  PaymentMethod     3000 non-null   object        \n",
      " 11  Status            3000 non-null   object        \n",
      "dtypes: datetime64[ns](1), float64(3), int64(1), object(7)\n",
      "memory usage: 281.4+ KB\n"
     ]
    }
   ],
   "source": [
    "df_updated.info()"
   ]
  },
  {
   "cell_type": "code",
   "execution_count": null,
   "id": "33e84005",
   "metadata": {},
   "outputs": [],
   "source": []
  },
  {
   "cell_type": "code",
   "execution_count": null,
   "id": "1c0bf38a",
   "metadata": {},
   "outputs": [],
   "source": []
  },
  {
   "cell_type": "code",
   "execution_count": null,
   "id": "cdde2b7c",
   "metadata": {},
   "outputs": [],
   "source": []
  },
  {
   "cell_type": "code",
   "execution_count": null,
   "id": "2415aca3",
   "metadata": {},
   "outputs": [],
   "source": []
  },
  {
   "cell_type": "code",
   "execution_count": null,
   "id": "8de6ec0c",
   "metadata": {},
   "outputs": [],
   "source": []
  },
  {
   "cell_type": "code",
   "execution_count": null,
   "id": "cd8166fc",
   "metadata": {},
   "outputs": [],
   "source": []
  },
  {
   "cell_type": "code",
   "execution_count": null,
   "id": "a8d00ab2",
   "metadata": {},
   "outputs": [],
   "source": []
  }
 ],
 "metadata": {
  "kernelspec": {
   "display_name": "Python 3 (ipykernel)",
   "language": "python",
   "name": "python3"
  },
  "language_info": {
   "codemirror_mode": {
    "name": "ipython",
    "version": 3
   },
   "file_extension": ".py",
   "mimetype": "text/x-python",
   "name": "python",
   "nbconvert_exporter": "python",
   "pygments_lexer": "ipython3",
   "version": "3.10.9"
  }
 },
 "nbformat": 4,
 "nbformat_minor": 5
}
